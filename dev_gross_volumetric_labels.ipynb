{
 "cells": [
  {
   "cell_type": "code",
   "execution_count": 53,
   "metadata": {},
   "outputs": [],
   "source": [
    "import napari\n",
    "import numpy as np\n",
    "import zarr\n",
    "import os\n",
    "import blosc2\n",
    "from ipywidgets import interact, IntSlider\n",
    "import matplotlib.pyplot as plt \n",
    "from scipy.ndimage import gaussian_filter\n",
    "from skimage.morphology import *\n",
    "from helper import *"
   ]
  },
  {
   "cell_type": "code",
   "execution_count": 54,
   "metadata": {},
   "outputs": [
    {
     "name": "stdout",
     "output_type": "stream",
     "text": [
      "/Users/jamesdarby/Documents/VesuviusScroll/GP/Vesuvius_3D_datasets/data/s1_gross_labels.b2nd\n",
      "uint8 (14500, 8000, 8500)\n"
     ]
    }
   ],
   "source": [
    "current_directory = os.getcwd()\n",
    "file_path = os.path.join(current_directory, 'data/s1_gross_labels.b2nd')\n",
    "print(file_path)\n",
    "blosc2_full_array = blosc2.open(file_path, mode='r')\n",
    "print(blosc2_full_array.dtype, blosc2_full_array.shape)"
   ]
  },
  {
   "cell_type": "code",
   "execution_count": 55,
   "metadata": {},
   "outputs": [],
   "source": [
    "s1_zarr_path = \"/Volumes/16TB_RAID_0/Scroll1/Scroll1.zarr\"\n",
    "s1_zarr_multi_res = zarr.open(s1_zarr_path, mode='r')\n",
    "s1_zarr = s1_zarr_multi_res[0]"
   ]
  },
  {
   "cell_type": "code",
   "execution_count": 56,
   "metadata": {},
   "outputs": [
    {
     "data": {
      "application/vnd.jupyter.widget-view+json": {
       "model_id": "7b48a6d47a264e3b9502473847202f72",
       "version_major": 2,
       "version_minor": 0
      },
      "text/plain": [
       "interactive(children=(IntSlider(value=0, description='slice_index', max=14375), IntSlider(value=0, description…"
      ]
     },
     "metadata": {},
     "output_type": "display_data"
    },
    {
     "data": {
      "text/plain": [
       "<function __main__.plot_slice(slice_index, axis=0)>"
      ]
     },
     "execution_count": 56,
     "metadata": {},
     "output_type": "execute_result"
    }
   ],
   "source": [
    "#plot the full blosc2 array\n",
    "def plot_slice(slice_index, axis=0):\n",
    "    plt.figure(figsize=(8, 6))\n",
    "    if axis == 1:\n",
    "        plt.imshow(s1_zarr[:,slice_index,:])\n",
    "    elif axis == 2:\n",
    "        plt.imshow(s1_zarr[:,:,slice_index])\n",
    "    else:\n",
    "        plt.imshow(s1_zarr[slice_index,:,:])\n",
    "    plt.colorbar()\n",
    "    plt.title(f'Slice {slice_index}')\n",
    "    plt.show()\n",
    "\n",
    "interact(plot_slice, slice_index=IntSlider(min=0, max=s1_zarr.shape[0]-1, step=1, value=0), axis=IntSlider(min=0, max=2, step=1, value=0))"
   ]
  },
  {
   "cell_type": "code",
   "execution_count": 57,
   "metadata": {},
   "outputs": [
    {
     "data": {
      "application/vnd.jupyter.widget-view+json": {
       "model_id": "ef1f2e3795fc45c9983837f907ce9384",
       "version_major": 2,
       "version_minor": 0
      },
      "text/plain": [
       "interactive(children=(IntSlider(value=0, description='slice_index', max=14499), IntSlider(value=0, description…"
      ]
     },
     "metadata": {},
     "output_type": "display_data"
    },
    {
     "data": {
      "text/plain": [
       "<function __main__.plot_slice(slice_index, axis=0)>"
      ]
     },
     "execution_count": 57,
     "metadata": {},
     "output_type": "execute_result"
    }
   ],
   "source": [
    "#plot the full blosc2 array\n",
    "def plot_slice(slice_index, axis=0):\n",
    "    plt.figure(figsize=(8, 6))\n",
    "    if axis == 1:\n",
    "        plt.imshow(blosc2_full_array[:,slice_index,:])\n",
    "    elif axis == 2:\n",
    "        plt.imshow(blosc2_full_array[:,:,slice_index])\n",
    "    else:\n",
    "        plt.imshow(blosc2_full_array[slice_index,:,:])\n",
    "    plt.colorbar()\n",
    "    plt.title(f'Slice {slice_index}')\n",
    "    plt.show()\n",
    "\n",
    "interact(plot_slice, slice_index=IntSlider(min=0, max=blosc2_full_array.shape[0]-1, step=1, value=0), axis=IntSlider(min=0, max=2, step=1, value=0))"
   ]
  },
  {
   "cell_type": "code",
   "execution_count": 58,
   "metadata": {},
   "outputs": [],
   "source": [
    "x = 3000\n",
    "y = 2000\n",
    "z = 0\n",
    "chunk_size = 256\n",
    "data = blosc2_full_array[z:z+chunk_size, y:y+chunk_size, x:x+chunk_size]\n",
    "zarr_data = s1_zarr[z:z+chunk_size, y:y+chunk_size, x:x+chunk_size]"
   ]
  },
  {
   "cell_type": "code",
   "execution_count": 59,
   "metadata": {},
   "outputs": [
    {
     "data": {
      "application/vnd.jupyter.widget-view+json": {
       "model_id": "3d17f548ee0643828425d97431b16bd4",
       "version_major": 2,
       "version_minor": 0
      },
      "text/plain": [
       "interactive(children=(IntSlider(value=0, description='slice_index', max=255), IntSlider(value=0, description='…"
      ]
     },
     "metadata": {},
     "output_type": "display_data"
    },
    {
     "data": {
      "text/plain": [
       "<function __main__.plot_slice(slice_index, axis=0)>"
      ]
     },
     "execution_count": 59,
     "metadata": {},
     "output_type": "execute_result"
    }
   ],
   "source": [
    "#plot the blosc2 array\n",
    "blosc2_array = data\n",
    "def plot_slice(slice_index, axis=0):\n",
    "    plt.figure(figsize=(8, 6))\n",
    "    if axis == 1:\n",
    "        plt.imshow(blosc2_array[:,slice_index,:])\n",
    "    elif axis == 2:\n",
    "        plt.imshow(blosc2_array[:,:,slice_index])\n",
    "    else:\n",
    "        plt.imshow(blosc2_array[slice_index,:,:])\n",
    "    plt.colorbar()\n",
    "    plt.title(f'Slice {slice_index}')\n",
    "    plt.show()\n",
    "\n",
    "interact(plot_slice, slice_index=IntSlider(min=0, max=blosc2_array.shape[0]-1, step=1, value=0), axis=IntSlider(min=0, max=2, step=1, value=0))"
   ]
  },
  {
   "cell_type": "code",
   "execution_count": 60,
   "metadata": {},
   "outputs": [
    {
     "data": {
      "application/vnd.jupyter.widget-view+json": {
       "model_id": "6981cb47656e406fa79e52b04323b38e",
       "version_major": 2,
       "version_minor": 0
      },
      "text/plain": [
       "interactive(children=(IntSlider(value=0, description='slice_index', max=255), IntSlider(value=0, description='…"
      ]
     },
     "metadata": {},
     "output_type": "display_data"
    },
    {
     "data": {
      "text/plain": [
       "<function __main__.plot_slice(slice_index, axis=0)>"
      ]
     },
     "execution_count": 60,
     "metadata": {},
     "output_type": "execute_result"
    }
   ],
   "source": [
    "#plot the zarr array\n",
    "blosc2_array = zarr_data\n",
    "def plot_slice(slice_index, axis=0):\n",
    "    plt.figure(figsize=(8, 6))\n",
    "    if axis == 1:\n",
    "        plt.imshow(blosc2_array[:,slice_index,:], cmap='gray')\n",
    "    elif axis == 2:\n",
    "        plt.imshow(blosc2_array[:,:,slice_index], cmap='gray')\n",
    "    else:\n",
    "        plt.imshow(blosc2_array[slice_index,:,:], cmap='gray')\n",
    "    plt.colorbar()\n",
    "    plt.title(f'Slice {slice_index}')\n",
    "    plt.show()\n",
    "\n",
    "interact(plot_slice, slice_index=IntSlider(min=0, max=blosc2_array.shape[0]-1, step=1, value=0), axis=IntSlider(min=0, max=2, step=1, value=0))"
   ]
  },
  {
   "cell_type": "code",
   "execution_count": 61,
   "metadata": {},
   "outputs": [
    {
     "data": {
      "application/vnd.jupyter.widget-view+json": {
       "model_id": "f3928b8fe87d4477bf51b20041717e87",
       "version_major": 2,
       "version_minor": 0
      },
      "text/plain": [
       "interactive(children=(IntSlider(value=0, description='slice_index', max=255), IntSlider(value=0, description='…"
      ]
     },
     "metadata": {},
     "output_type": "display_data"
    },
    {
     "data": {
      "text/plain": [
       "<function __main__.plot_slice(slice_index, axis=0)>"
      ]
     },
     "execution_count": 61,
     "metadata": {},
     "output_type": "execute_result"
    }
   ],
   "source": [
    "#plot the blosc2 array over the zarr raw data\n",
    "blosc2_array = data\n",
    "def plot_slice(slice_index, axis=0):\n",
    "    plt.figure(figsize=(8, 6))\n",
    "    if axis == 1:\n",
    "        plt.imshow(mark_boundaries_color(zarr_data[:,slice_index,:], blosc2_array[:,slice_index,:]))\n",
    "    elif axis == 2:\n",
    "        plt.imshow(mark_boundaries_color(zarr_data[:,:,slice_index], blosc2_array[:,:,slice_index]))\n",
    "    else:\n",
    "        plt.imshow(mark_boundaries_color(zarr_data[slice_index,:,:], blosc2_array[slice_index,:,:]))\n",
    "    plt.colorbar()\n",
    "    plt.title(f'Slice {slice_index}')\n",
    "    plt.show()\n",
    "\n",
    "interact(plot_slice, slice_index=IntSlider(min=0, max=blosc2_array.shape[0]-1, step=1, value=0), axis=IntSlider(min=0, max=2, step=1, value=0))"
   ]
  },
  {
   "cell_type": "code",
   "execution_count": 62,
   "metadata": {},
   "outputs": [
    {
     "data": {
      "application/vnd.jupyter.widget-view+json": {
       "model_id": "0c5fa9eb81cb47249feedf370103ba33",
       "version_major": 2,
       "version_minor": 0
      },
      "text/plain": [
       "interactive(children=(IntSlider(value=0, description='slice_index', max=255), IntSlider(value=0, description='…"
      ]
     },
     "metadata": {},
     "output_type": "display_data"
    },
    {
     "data": {
      "text/plain": [
       "<function __main__.plot_slice(slice_index, axis=0)>"
      ]
     },
     "execution_count": 62,
     "metadata": {},
     "output_type": "execute_result"
    }
   ],
   "source": [
    "#plot the blosc2 array over the zarr raw data\n",
    "blosc2_array = data\n",
    "def plot_slice(slice_index, axis=0):\n",
    "    plt.figure(figsize=(8, 6))\n",
    "    if axis == 1:\n",
    "        plt.imshow(zarr_data[:,slice_index,:] * blosc2_array[:,slice_index,:], cmap='grey')\n",
    "    elif axis == 2:\n",
    "        plt.imshow(zarr_data[:,:,slice_index] * blosc2_array[:,:,slice_index], cmap='grey')\n",
    "    else:\n",
    "        plt.imshow(zarr_data[slice_index,:,:] * blosc2_array[slice_index,:,:], cmap='grey')\n",
    "    plt.colorbar()\n",
    "    plt.title(f'Slice {slice_index}')\n",
    "    plt.show()\n",
    "\n",
    "interact(plot_slice, slice_index=IntSlider(min=0, max=blosc2_array.shape[0]-1, step=1, value=0), axis=IntSlider(min=0, max=2, step=1, value=0))"
   ]
  },
  {
   "cell_type": "code",
   "execution_count": 63,
   "metadata": {},
   "outputs": [
    {
     "name": "stdout",
     "output_type": "stream",
     "text": [
      "(256, 256, 256) 32473.30707269907 0.5148491263389587\n"
     ]
    }
   ],
   "source": [
    "smoothed_block = gaussian_filter(zarr_data, sigma=1)\n",
    "threshold_mask = smoothed_block > np.mean(smoothed_block)\n",
    "obj_size = 5000\n",
    "threshold_mask = remove_small_holes(remove_small_objects(threshold_mask, obj_size), obj_size)\n",
    "mask_ratio = np.sum(threshold_mask) / threshold_mask.size\n",
    "print(threshold_mask.shape, np.mean(smoothed_block), mask_ratio)"
   ]
  },
  {
   "cell_type": "code",
   "execution_count": 64,
   "metadata": {},
   "outputs": [
    {
     "data": {
      "application/vnd.jupyter.widget-view+json": {
       "model_id": "a6d6d1a5b6e04d94b26ce054af12e4fc",
       "version_major": 2,
       "version_minor": 0
      },
      "text/plain": [
       "interactive(children=(IntSlider(value=0, description='slice_index', max=255), IntSlider(value=0, description='…"
      ]
     },
     "metadata": {},
     "output_type": "display_data"
    },
    {
     "data": {
      "text/plain": [
       "<function __main__.plot_slice(slice_index, axis=0)>"
      ]
     },
     "execution_count": 64,
     "metadata": {},
     "output_type": "execute_result"
    }
   ],
   "source": [
    "# slider display result of threshold mask\n",
    "# Assuming 'res' is your 3D array with int64 data type\n",
    "def plot_slice(slice_index, axis=0):\n",
    "    plt.figure(figsize=(8, 6))\n",
    "    if axis == 1:\n",
    "        plt.imshow(zarr_data[:,slice_index,:] * threshold_mask [:,slice_index,:], cmap='gray')\n",
    "    elif axis == 2:\n",
    "        plt.imshow(zarr_data[:,:,slice_index] * threshold_mask [:,:,slice_index], cmap='gray')\n",
    "    else:\n",
    "        plt.imshow(zarr_data[slice_index,:,:] * threshold_mask [slice_index,:,:], cmap='gray')\n",
    "    plt.colorbar()\n",
    "    plt.title(f'Slice {slice_index}')\n",
    "    plt.show()\n",
    "\n",
    "# Create a slider to browse through slices\n",
    "interact(plot_slice, slice_index=IntSlider(min=0, max=threshold_mask.shape[0]-1, step=1, value=0), axis=IntSlider(min=0, max=2, step=1, value=0))\n"
   ]
  },
  {
   "cell_type": "code",
   "execution_count": 65,
   "metadata": {},
   "outputs": [
    {
     "name": "stdout",
     "output_type": "stream",
     "text": [
      "(256, 256, 256)\n",
      "uint8\n",
      "0 1\n"
     ]
    }
   ],
   "source": [
    "\n",
    "print(data.shape)\n",
    "print(data.dtype)\n",
    "print(data.min(), data.max())\n"
   ]
  },
  {
   "cell_type": "code",
   "execution_count": 66,
   "metadata": {},
   "outputs": [
    {
     "ename": "",
     "evalue": "",
     "output_type": "error",
     "traceback": [
      "\u001b[1;31mThe Kernel crashed while executing code in the current cell or a previous cell. \n",
      "\u001b[1;31mPlease review the code in the cell(s) to identify a possible cause of the failure. \n",
      "\u001b[1;31mClick <a href='https://aka.ms/vscodeJupyterKernelCrash'>here</a> for more info. \n",
      "\u001b[1;31mView Jupyter <a href='command:jupyter.viewOutput'>log</a> for further details."
     ]
    }
   ],
   "source": [
    "viewer = napari.Viewer()\n",
    "img_layer = viewer.add_image(zarr_data, name='raw data', colormap='gray')\n",
    "gross_label = viewer.add_labels(data, name='s1_gross_labels')\n",
    "threshold_label = viewer.add_labels(threshold_mask, name='threshold_mask')\n",
    "napari.run()"
   ]
  }
 ],
 "metadata": {
  "kernelspec": {
   "display_name": "ML_Normals",
   "language": "python",
   "name": "python3"
  },
  "language_info": {
   "codemirror_mode": {
    "name": "ipython",
    "version": 3
   },
   "file_extension": ".py",
   "mimetype": "text/x-python",
   "name": "python",
   "nbconvert_exporter": "python",
   "pygments_lexer": "ipython3",
   "version": "3.12.2"
  }
 },
 "nbformat": 4,
 "nbformat_minor": 2
}
