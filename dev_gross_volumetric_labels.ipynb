{
 "cells": [
  {
   "cell_type": "code",
   "execution_count": 19,
   "metadata": {},
   "outputs": [],
   "source": [
    "import napari\n",
    "import numpy as np\n",
    "import zarr\n",
    "import os\n",
    "import blosc2\n",
    "from ipywidgets import interact, IntSlider\n",
    "import matplotlib.pyplot as plt \n",
    "from scipy.ndimage import gaussian_filter\n",
    "from skimage.morphology import *\n",
    "from helper import *"
   ]
  },
  {
   "cell_type": "code",
   "execution_count": 3,
   "metadata": {},
   "outputs": [
    {
     "name": "stdout",
     "output_type": "stream",
     "text": [
      "/Users/jamesdarby/Documents/VesuviusScroll/GP/Vesuvius_3D_datasets/data/s1_gross_labels.b2nd\n",
      "uint8 (14500, 8000, 8500)\n"
     ]
    }
   ],
   "source": [
    "current_directory = os.getcwd()\n",
    "file_path = os.path.join(current_directory, 'data/s1_gross_labels.b2nd')\n",
    "print(file_path)\n",
    "blosc2_full_array = blosc2.open(file_path, mode='r')\n",
    "print(blosc2_full_array.dtype, blosc2_full_array.shape)"
   ]
  },
  {
   "cell_type": "code",
   "execution_count": 4,
   "metadata": {},
   "outputs": [],
   "source": [
    "s1_zarr_path = \"/Volumes/16TB_RAID_0/Scroll1/Scroll1.zarr\"\n",
    "s1_zarr_multi_res = zarr.open(s1_zarr_path, mode='r')\n",
    "s1_zarr = s1_zarr_multi_res[0]"
   ]
  },
  {
   "cell_type": "code",
   "execution_count": 5,
   "metadata": {},
   "outputs": [
    {
     "data": {
      "application/vnd.jupyter.widget-view+json": {
       "model_id": "ec7ac02e7de44a76b16ddca2ccc6ac47",
       "version_major": 2,
       "version_minor": 0
      },
      "text/plain": [
       "interactive(children=(IntSlider(value=0, description='slice_index', max=14375), IntSlider(value=0, description…"
      ]
     },
     "metadata": {},
     "output_type": "display_data"
    },
    {
     "data": {
      "text/plain": [
       "<function __main__.plot_slice(slice_index, axis=0)>"
      ]
     },
     "execution_count": 5,
     "metadata": {},
     "output_type": "execute_result"
    }
   ],
   "source": [
    "#plot the full blosc2 array\n",
    "def plot_slice(slice_index, axis=0):\n",
    "    plt.figure(figsize=(8, 6))\n",
    "    if axis == 1:\n",
    "        plt.imshow(s1_zarr[:,slice_index,:])\n",
    "    elif axis == 2:\n",
    "        plt.imshow(s1_zarr[:,:,slice_index])\n",
    "    else:\n",
    "        plt.imshow(s1_zarr[slice_index,:,:])\n",
    "    plt.colorbar()\n",
    "    plt.title(f'Slice {slice_index}')\n",
    "    plt.show()\n",
    "\n",
    "interact(plot_slice, slice_index=IntSlider(min=0, max=s1_zarr.shape[0]-1, step=1, value=0), axis=IntSlider(min=0, max=2, step=1, value=0))"
   ]
  },
  {
   "cell_type": "code",
   "execution_count": 6,
   "metadata": {},
   "outputs": [
    {
     "data": {
      "application/vnd.jupyter.widget-view+json": {
       "model_id": "43b5814f49514951bcb2cf7902a6f2da",
       "version_major": 2,
       "version_minor": 0
      },
      "text/plain": [
       "interactive(children=(IntSlider(value=0, description='slice_index', max=14499), IntSlider(value=0, description…"
      ]
     },
     "metadata": {},
     "output_type": "display_data"
    },
    {
     "data": {
      "text/plain": [
       "<function __main__.plot_slice(slice_index, axis=0)>"
      ]
     },
     "execution_count": 6,
     "metadata": {},
     "output_type": "execute_result"
    }
   ],
   "source": [
    "#plot the full blosc2 array\n",
    "def plot_slice(slice_index, axis=0):\n",
    "    plt.figure(figsize=(8, 6))\n",
    "    if axis == 1:\n",
    "        plt.imshow(blosc2_full_array[:,slice_index,:])\n",
    "    elif axis == 2:\n",
    "        plt.imshow(blosc2_full_array[:,:,slice_index])\n",
    "    else:\n",
    "        plt.imshow(blosc2_full_array[slice_index,:,:])\n",
    "    plt.colorbar()\n",
    "    plt.title(f'Slice {slice_index}')\n",
    "    plt.show()\n",
    "\n",
    "interact(plot_slice, slice_index=IntSlider(min=0, max=blosc2_full_array.shape[0]-1, step=1, value=0), axis=IntSlider(min=0, max=2, step=1, value=0))"
   ]
  },
  {
   "cell_type": "code",
   "execution_count": 7,
   "metadata": {},
   "outputs": [],
   "source": [
    "x = 3000\n",
    "y = 2000\n",
    "z = 0\n",
    "chunk_size = 256\n",
    "data = blosc2_full_array[z:z+chunk_size, y:y+chunk_size, x:x+chunk_size]\n",
    "zarr_data = s1_zarr[z:z+chunk_size, y:y+chunk_size, x:x+chunk_size]"
   ]
  },
  {
   "cell_type": "code",
   "execution_count": 8,
   "metadata": {},
   "outputs": [
    {
     "data": {
      "application/vnd.jupyter.widget-view+json": {
       "model_id": "40e7699ab1134581a668e2c4ca14216e",
       "version_major": 2,
       "version_minor": 0
      },
      "text/plain": [
       "interactive(children=(IntSlider(value=0, description='slice_index', max=255), IntSlider(value=0, description='…"
      ]
     },
     "metadata": {},
     "output_type": "display_data"
    },
    {
     "data": {
      "text/plain": [
       "<function __main__.plot_slice(slice_index, axis=0)>"
      ]
     },
     "execution_count": 8,
     "metadata": {},
     "output_type": "execute_result"
    }
   ],
   "source": [
    "#plot the blosc2 array\n",
    "blosc2_array = data\n",
    "def plot_slice(slice_index, axis=0):\n",
    "    plt.figure(figsize=(8, 6))\n",
    "    if axis == 1:\n",
    "        plt.imshow(blosc2_array[:,slice_index,:])\n",
    "    elif axis == 2:\n",
    "        plt.imshow(blosc2_array[:,:,slice_index])\n",
    "    else:\n",
    "        plt.imshow(blosc2_array[slice_index,:,:])\n",
    "    plt.colorbar()\n",
    "    plt.title(f'Slice {slice_index}')\n",
    "    plt.show()\n",
    "\n",
    "interact(plot_slice, slice_index=IntSlider(min=0, max=blosc2_array.shape[0]-1, step=1, value=0), axis=IntSlider(min=0, max=2, step=1, value=0))"
   ]
  },
  {
   "cell_type": "code",
   "execution_count": 9,
   "metadata": {},
   "outputs": [
    {
     "data": {
      "application/vnd.jupyter.widget-view+json": {
       "model_id": "f167b475b5254eb099049db139af4b22",
       "version_major": 2,
       "version_minor": 0
      },
      "text/plain": [
       "interactive(children=(IntSlider(value=0, description='slice_index', max=255), IntSlider(value=0, description='…"
      ]
     },
     "metadata": {},
     "output_type": "display_data"
    },
    {
     "data": {
      "text/plain": [
       "<function __main__.plot_slice(slice_index, axis=0)>"
      ]
     },
     "execution_count": 9,
     "metadata": {},
     "output_type": "execute_result"
    }
   ],
   "source": [
    "#plot the zarr array\n",
    "blosc2_array = zarr_data\n",
    "def plot_slice(slice_index, axis=0):\n",
    "    plt.figure(figsize=(8, 6))\n",
    "    if axis == 1:\n",
    "        plt.imshow(blosc2_array[:,slice_index,:], cmap='gray')\n",
    "    elif axis == 2:\n",
    "        plt.imshow(blosc2_array[:,:,slice_index], cmap='gray')\n",
    "    else:\n",
    "        plt.imshow(blosc2_array[slice_index,:,:], cmap='gray')\n",
    "    plt.colorbar()\n",
    "    plt.title(f'Slice {slice_index}')\n",
    "    plt.show()\n",
    "\n",
    "interact(plot_slice, slice_index=IntSlider(min=0, max=blosc2_array.shape[0]-1, step=1, value=0), axis=IntSlider(min=0, max=2, step=1, value=0))"
   ]
  },
  {
   "cell_type": "code",
   "execution_count": 10,
   "metadata": {},
   "outputs": [
    {
     "data": {
      "application/vnd.jupyter.widget-view+json": {
       "model_id": "52187a49a5454d0e90b9f2bf62bd86e6",
       "version_major": 2,
       "version_minor": 0
      },
      "text/plain": [
       "interactive(children=(IntSlider(value=0, description='slice_index', max=255), IntSlider(value=0, description='…"
      ]
     },
     "metadata": {},
     "output_type": "display_data"
    },
    {
     "data": {
      "text/plain": [
       "<function __main__.plot_slice(slice_index, axis=0)>"
      ]
     },
     "execution_count": 10,
     "metadata": {},
     "output_type": "execute_result"
    }
   ],
   "source": [
    "#plot the blosc2 array over the zarr raw data\n",
    "blosc2_array = data\n",
    "def plot_slice(slice_index, axis=0):\n",
    "    plt.figure(figsize=(8, 6))\n",
    "    if axis == 1:\n",
    "        plt.imshow(mark_boundaries_color(zarr_data[:,slice_index,:], blosc2_array[:,slice_index,:]))\n",
    "    elif axis == 2:\n",
    "        plt.imshow(mark_boundaries_color(zarr_data[:,:,slice_index], blosc2_array[:,:,slice_index]))\n",
    "    else:\n",
    "        plt.imshow(mark_boundaries_color(zarr_data[slice_index,:,:], blosc2_array[slice_index,:,:]))\n",
    "    plt.colorbar()\n",
    "    plt.title(f'Slice {slice_index}')\n",
    "    plt.show()\n",
    "\n",
    "interact(plot_slice, slice_index=IntSlider(min=0, max=blosc2_array.shape[0]-1, step=1, value=0), axis=IntSlider(min=0, max=2, step=1, value=0))"
   ]
  },
  {
   "cell_type": "code",
   "execution_count": 11,
   "metadata": {},
   "outputs": [
    {
     "data": {
      "application/vnd.jupyter.widget-view+json": {
       "model_id": "78840c4264c64eada354fcb64b27fa35",
       "version_major": 2,
       "version_minor": 0
      },
      "text/plain": [
       "interactive(children=(IntSlider(value=0, description='slice_index', max=255), IntSlider(value=0, description='…"
      ]
     },
     "metadata": {},
     "output_type": "display_data"
    },
    {
     "data": {
      "text/plain": [
       "<function __main__.plot_slice(slice_index, axis=0)>"
      ]
     },
     "execution_count": 11,
     "metadata": {},
     "output_type": "execute_result"
    }
   ],
   "source": [
    "#plot the blosc2 array over the zarr raw data\n",
    "blosc2_array = data\n",
    "def plot_slice(slice_index, axis=0):\n",
    "    plt.figure(figsize=(8, 6))\n",
    "    if axis == 1:\n",
    "        plt.imshow(zarr_data[:,slice_index,:] * blosc2_array[:,slice_index,:], cmap='grey')\n",
    "    elif axis == 2:\n",
    "        plt.imshow(zarr_data[:,:,slice_index] * blosc2_array[:,:,slice_index], cmap='grey')\n",
    "    else:\n",
    "        plt.imshow(zarr_data[slice_index,:,:] * blosc2_array[slice_index,:,:], cmap='grey')\n",
    "    plt.colorbar()\n",
    "    plt.title(f'Slice {slice_index}')\n",
    "    plt.show()\n",
    "\n",
    "interact(plot_slice, slice_index=IntSlider(min=0, max=blosc2_array.shape[0]-1, step=1, value=0), axis=IntSlider(min=0, max=2, step=1, value=0))"
   ]
  },
  {
   "cell_type": "code",
   "execution_count": 35,
   "metadata": {},
   "outputs": [
    {
     "name": "stdout",
     "output_type": "stream",
     "text": [
      "(256, 256, 256) 32473.30707269907 0.5148491263389587\n"
     ]
    }
   ],
   "source": [
    "smoothed_block = gaussian_filter(zarr_data, sigma=1)\n",
    "threshold_mask = smoothed_block > np.mean(smoothed_block)\n",
    "obj_size = 5000\n",
    "threshold_mask = remove_small_holes(remove_small_objects(threshold_mask, obj_size), obj_size)\n",
    "mask_ratio = np.sum(threshold_mask) / threshold_mask.size\n",
    "print(threshold_mask.shape, np.mean(smoothed_block), mask_ratio)"
   ]
  },
  {
   "cell_type": "code",
   "execution_count": 36,
   "metadata": {},
   "outputs": [
    {
     "data": {
      "application/vnd.jupyter.widget-view+json": {
       "model_id": "5e2f5e2d81c247388be3f37dc1be1db3",
       "version_major": 2,
       "version_minor": 0
      },
      "text/plain": [
       "interactive(children=(IntSlider(value=0, description='slice_index', max=255), IntSlider(value=0, description='…"
      ]
     },
     "metadata": {},
     "output_type": "display_data"
    },
    {
     "data": {
      "text/plain": [
       "<function __main__.plot_slice(slice_index, axis=0)>"
      ]
     },
     "execution_count": 36,
     "metadata": {},
     "output_type": "execute_result"
    },
    {
     "name": "stderr",
     "output_type": "stream",
     "text": [
      "OMP: Info #276: omp_set_nested routine deprecated, please use omp_set_max_active_levels instead.\n"
     ]
    }
   ],
   "source": [
    "# slider display result of threshold mask\n",
    "# Assuming 'res' is your 3D array with int64 data type\n",
    "def plot_slice(slice_index, axis=0):\n",
    "    plt.figure(figsize=(8, 6))\n",
    "    if axis == 1:\n",
    "        plt.imshow(zarr_data[:,slice_index,:] * threshold_mask [:,slice_index,:], cmap='gray')\n",
    "    elif axis == 2:\n",
    "        plt.imshow(zarr_data[:,:,slice_index] * threshold_mask [:,:,slice_index], cmap='gray')\n",
    "    else:\n",
    "        plt.imshow(zarr_data[slice_index,:,:] * threshold_mask [slice_index,:,:], cmap='gray')\n",
    "    plt.colorbar()\n",
    "    plt.title(f'Slice {slice_index}')\n",
    "    plt.show()\n",
    "\n",
    "# Create a slider to browse through slices\n",
    "interact(plot_slice, slice_index=IntSlider(min=0, max=threshold_mask.shape[0]-1, step=1, value=0), axis=IntSlider(min=0, max=2, step=1, value=0))\n"
   ]
  },
  {
   "cell_type": "code",
   "execution_count": 37,
   "metadata": {},
   "outputs": [
    {
     "name": "stdout",
     "output_type": "stream",
     "text": [
      "(256, 256, 256)\n",
      "uint8\n",
      "0 1\n"
     ]
    }
   ],
   "source": [
    "\n",
    "print(data.shape)\n",
    "print(data.dtype)\n",
    "print(data.min(), data.max())\n"
   ]
  },
  {
   "cell_type": "code",
   "execution_count": 38,
   "metadata": {},
   "outputs": [],
   "source": [
    "viewer = napari.Viewer()\n",
    "img_layer = viewer.add_image(zarr_data, name='raw data', colormap='gray')\n",
    "gross_label = viewer.add_labels(data, name='s1_gross_labels')\n",
    "threshold_label = viewer.add_labels(threshold_mask, name='threshold_mask')\n",
    "napari.run()"
   ]
  }
 ],
 "metadata": {
  "kernelspec": {
   "display_name": "ML_Normals",
   "language": "python",
   "name": "python3"
  },
  "language_info": {
   "codemirror_mode": {
    "name": "ipython",
    "version": 3
   },
   "file_extension": ".py",
   "mimetype": "text/x-python",
   "name": "python",
   "nbconvert_exporter": "python",
   "pygments_lexer": "ipython3",
   "version": "3.12.2"
  }
 },
 "nbformat": 4,
 "nbformat_minor": 2
}
