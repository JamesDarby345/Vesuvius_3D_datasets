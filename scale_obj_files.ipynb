{
 "cells": [
  {
   "cell_type": "code",
   "execution_count": 9,
   "metadata": {},
   "outputs": [],
   "source": [
    "import trimesh\n",
    "import numpy as np\n",
    "obj_path = \"/Volumes/16TB_RAID_0/Scroll4/segments/objs\"\n",
    "obj_ids = [\"20231210132040\", \"20240304141530\", \"20240304141531\", \"20240304144030\", \"20240304161940\"]\n",
    "\n",
    "for id in obj_ids:\n",
    "\n",
    "    mesh = trimesh.load_mesh(obj_path + \"/\" + id + \".obj\")\n",
    "    # Define the transformation matrix\n",
    "    #20231107190228-to-20231117161658.json\n",
    "    transformation_matrix = np.array([\n",
    "        [0.4155922380047027, 0.003183129908139097, -0.0008521399929353689, 69.06699837569994],\n",
    "        [0.0003993645079494003, 0.41809799461101, 0.0030482254825336804, -60.87277464176055],\n",
    "        [0.0021139334228769953, -0.00018336409867937136, 0.41337991244719396, 58.3979422734862],\n",
    "        [0.0, 0.0, 0.0, 1.0]\n",
    "    ])\n",
    "\n",
    "    # Invert the transformation matrix\n",
    "    # for 20231117161658 to 20231107190228 transformation\n",
    "    inverse_transformation_matrix = np.linalg.inv(transformation_matrix)\n",
    "\n",
    "    # Apply the inverse transformation\n",
    "    mesh.apply_transform(inverse_transformation_matrix)\n",
    "    mesh.apply_scale(1.02)\n",
    "\n",
    "    mesh.export(obj_path + \"/\" + id + \"_scaled.obj\")\n"
   ]
  }
 ],
 "metadata": {
  "kernelspec": {
   "display_name": "ML_Normals",
   "language": "python",
   "name": "python3"
  },
  "language_info": {
   "codemirror_mode": {
    "name": "ipython",
    "version": 3
   },
   "file_extension": ".py",
   "mimetype": "text/x-python",
   "name": "python",
   "nbconvert_exporter": "python",
   "pygments_lexer": "ipython3",
   "version": "3.12.2"
  }
 },
 "nbformat": 4,
 "nbformat_minor": 2
}
