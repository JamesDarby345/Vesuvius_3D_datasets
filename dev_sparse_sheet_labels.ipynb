{
 "cells": [
  {
   "cell_type": "code",
   "execution_count": 26,
   "metadata": {},
   "outputs": [],
   "source": [
    "import nrrd\n",
    "import numpy as np\n",
    "import os\n",
    "from scipy.ndimage import gaussian_filter\n",
    "from skimage.morphology import *\n",
    "from matplotlib import pyplot as plt\n",
    "from ipywidgets import interact, IntSlider\n",
    "from scipy.ndimage import binary_dilation, binary_erosion, binary_closing\n",
    "from helper import *"
   ]
  },
  {
   "cell_type": "code",
   "execution_count": 27,
   "metadata": {},
   "outputs": [],
   "source": [
    "# Load the data\n",
    "current_directory = os.getcwd()\n",
    "m1l, _ = nrrd.read(current_directory + '/data/manual_1_label.nrrd')\n",
    "m1r, _ = nrrd.read(current_directory + '/data/manual_1_raw.nrrd')\n",
    "m2l, _ = nrrd.read(current_directory + '/data/manual_2_label.nrrd')\n",
    "m2r, _ = nrrd.read(current_directory + '/data/manual_2_raw.nrrd')"
   ]
  },
  {
   "cell_type": "code",
   "execution_count": 28,
   "metadata": {},
   "outputs": [
    {
     "name": "stdout",
     "output_type": "stream",
     "text": [
      "(256, 256, 256)\n"
     ]
    }
   ],
   "source": [
    "print(m1r.shape)"
   ]
  },
  {
   "cell_type": "code",
   "execution_count": 29,
   "metadata": {},
   "outputs": [
    {
     "name": "stdout",
     "output_type": "stream",
     "text": [
      "(256, 256, 256) 31809.679174363613 0.48309850692749023\n"
     ]
    }
   ],
   "source": [
    "# threshold mask using gaussian filter m1r\n",
    "smoothed_block = gaussian_filter(m1r, sigma=2)\n",
    "threshold_mask = smoothed_block > np.mean(smoothed_block)\n",
    "obj_size = 20000\n",
    "threshold_mask = remove_small_holes(remove_small_objects(threshold_mask, obj_size), obj_size)\n",
    "mask_ratio = np.sum(threshold_mask) / threshold_mask.size\n",
    "print(threshold_mask.shape, np.mean(smoothed_block), mask_ratio)"
   ]
  },
  {
   "cell_type": "code",
   "execution_count": 30,
   "metadata": {},
   "outputs": [
    {
     "data": {
      "application/vnd.jupyter.widget-view+json": {
       "model_id": "fdff9d4865f548d7b17caa269eeeac61",
       "version_major": 2,
       "version_minor": 0
      },
      "text/plain": [
       "interactive(children=(IntSlider(value=0, description='slice_index', max=255), IntSlider(value=0, description='…"
      ]
     },
     "metadata": {},
     "output_type": "display_data"
    },
    {
     "data": {
      "text/plain": [
       "<function __main__.plot_slice(slice_index, axis=0)>"
      ]
     },
     "execution_count": 30,
     "metadata": {},
     "output_type": "execute_result"
    }
   ],
   "source": [
    "# slider display result of threshold mask\n",
    "# Assuming 'res' is your 3D array with int64 data type\n",
    "def plot_slice(slice_index, axis=0):\n",
    "    plt.figure(figsize=(8, 6))\n",
    "    if axis == 1:\n",
    "        plt.imshow(m1r[:,slice_index,:] * threshold_mask [:,slice_index,:], cmap='gray')\n",
    "    elif axis == 2:\n",
    "        plt.imshow(m1r[:,:,slice_index] * threshold_mask [:,:,slice_index], cmap='gray')\n",
    "    else:\n",
    "        plt.imshow(m1r[slice_index,:,:] * threshold_mask [slice_index,:,:], cmap='gray')\n",
    "    plt.colorbar()\n",
    "    plt.title(f'Slice {slice_index}')\n",
    "    plt.show()\n",
    "\n",
    "# Create a slider to browse through slices\n",
    "interact(plot_slice, slice_index=IntSlider(min=0, max=threshold_mask.shape[0]-1, step=1, value=0), axis=IntSlider(min=0, max=2, step=1, value=0))\n"
   ]
  },
  {
   "cell_type": "code",
   "execution_count": 31,
   "metadata": {},
   "outputs": [],
   "source": [
    "def process_nrrd_file(nrrd_path, erosion_iterations=1, dilation_iterations=1):\n",
    "    print(f\"Processing: {nrrd_path}\")\n",
    "    data, header = nrrd.read(nrrd_path)\n",
    "    unique_values = np.unique(data[data > 0])  # Ignore background & masking\n",
    "\n",
    "    # Create an empty array for the result\n",
    "    result = np.zeros_like(data, dtype=np.uint8)\n",
    "    weights = np.ones_like(data, dtype=np.uint8)\n",
    "    border_overlap = np.zeros_like(data, dtype=np.uint8)\n",
    "\n",
    "    for value in unique_values:\n",
    "        structure_mask = data == value\n",
    "        \n",
    "        # Pad the structure mask to prevent erosion at the edges\n",
    "        padded_structure = np.pad(structure_mask, pad_width=erosion_iterations, mode='constant', constant_values=value)\n",
    "        \n",
    "        # Erode the padded structure\n",
    "        eroded_padded_structure = binary_erosion(padded_structure, iterations=erosion_iterations)\n",
    "        \n",
    "        # Remove the padding after erosion\n",
    "        eroded_structure = eroded_padded_structure[\n",
    "            erosion_iterations:-erosion_iterations,\n",
    "            erosion_iterations:-erosion_iterations,\n",
    "            erosion_iterations:-erosion_iterations\n",
    "        ]\n",
    "        \n",
    "        # Ensure the eroded structure is within bounds\n",
    "        if eroded_structure.shape != structure_mask.shape:\n",
    "            print(f\"WARNING: Erosion caused shape mismatch for value {value}\")\n",
    "            eroded_structure = np.zeros_like(structure_mask)\n",
    "        \n",
    "        if dilation_iterations > 0:\n",
    "            # Dilate the original structure\n",
    "            dilated_structure = binary_dilation(structure_mask, iterations=dilation_iterations)\n",
    "        else:\n",
    "            dilated_structure = structure_mask\n",
    "        \n",
    "        border = np.logical_xor(dilated_structure, eroded_structure)\n",
    "        # Label assignments\n",
    "        result[border] = 1  # Border class\n",
    "        result[eroded_structure] = 2  # Foreground class (overwrites the border if applicable)\n",
    "        \n",
    "        # Weight assignments\n",
    "        weights[border] = 2 # border weight\n",
    "        weights[eroded_structure] = 1\n",
    "\n",
    "        # Update border overlap array\n",
    "        border_overlap += border.astype(np.uint8)\n",
    "\n",
    "    # Assign a weight of 10 to overlapping border regions\n",
    "    weights[border_overlap > 1] = 1\n",
    "    weights[border_overlap <= 1] = 0\n",
    "\n",
    "    return result, weights"
   ]
  },
  {
   "cell_type": "code",
   "execution_count": 32,
   "metadata": {},
   "outputs": [
    {
     "name": "stdout",
     "output_type": "stream",
     "text": [
      "Processing: /Users/jamesdarby/Documents/VesuviusScroll/GP/Vesuvius_3D_datasets/data/manual_1_label.nrrd\n"
     ]
    }
   ],
   "source": [
    "m1_label, m1_border = process_nrrd_file(current_directory + '/data/manual_1_label.nrrd', erosion_iterations=3, dilation_iterations=3)"
   ]
  },
  {
   "cell_type": "code",
   "execution_count": 33,
   "metadata": {},
   "outputs": [
    {
     "data": {
      "application/vnd.jupyter.widget-view+json": {
       "model_id": "9340f2d4004742549577356f21f35078",
       "version_major": 2,
       "version_minor": 0
      },
      "text/plain": [
       "interactive(children=(IntSlider(value=0, description='slice_index', max=255), IntSlider(value=0, description='…"
      ]
     },
     "metadata": {},
     "output_type": "display_data"
    },
    {
     "data": {
      "text/plain": [
       "<function __main__.plot_slice(slice_index, axis=0)>"
      ]
     },
     "execution_count": 33,
     "metadata": {},
     "output_type": "execute_result"
    }
   ],
   "source": [
    "# Display the resulting border\n",
    "def plot_slice(slice_index, axis=0):\n",
    "    plt.figure(figsize=(8, 6))\n",
    "    if axis == 1:\n",
    "        plt.imshow(m1_border[:,slice_index,:], cmap='gray')\n",
    "    elif axis == 2:\n",
    "        plt.imshow(m1_border[:,:,slice_index], cmap='gray')\n",
    "    else:\n",
    "        plt.imshow(m1_border[slice_index,:,:], cmap='gray')\n",
    "    plt.colorbar()\n",
    "    plt.title(f'Slice {slice_index}')\n",
    "    plt.show()\n",
    "\n",
    "# Create a slider to browse through slices\n",
    "interact(plot_slice, slice_index=IntSlider(min=0, max=m1_border.shape[0]-1, step=1, value=0), axis=IntSlider(min=0, max=2, step=1, value=0))\n"
   ]
  },
  {
   "cell_type": "code",
   "execution_count": 34,
   "metadata": {},
   "outputs": [],
   "source": [
    "threshold_mask[m1_border == 1] = 0\n",
    "split_threshold_mask = remove_small_holes(remove_small_objects(threshold_mask, obj_size), obj_size)"
   ]
  },
  {
   "cell_type": "code",
   "execution_count": 35,
   "metadata": {},
   "outputs": [
    {
     "data": {
      "application/vnd.jupyter.widget-view+json": {
       "model_id": "1a41b963480e4e87accf66853e508b18",
       "version_major": 2,
       "version_minor": 0
      },
      "text/plain": [
       "interactive(children=(IntSlider(value=0, description='slice_index', max=255), IntSlider(value=0, description='…"
      ]
     },
     "metadata": {},
     "output_type": "display_data"
    },
    {
     "data": {
      "text/plain": [
       "<function __main__.plot_slice(slice_index, axis=0)>"
      ]
     },
     "execution_count": 35,
     "metadata": {},
     "output_type": "execute_result"
    }
   ],
   "source": [
    "# Display the resulting split basic mask\n",
    "def plot_slice(slice_index, axis=0):\n",
    "    plt.figure(figsize=(8, 6))\n",
    "    if axis == 1:\n",
    "        plt.imshow(split_threshold_mask[:,slice_index,:], cmap='gray')\n",
    "    elif axis == 2:\n",
    "        plt.imshow(split_threshold_mask[:,:,slice_index], cmap='gray')\n",
    "    else:\n",
    "        plt.imshow(split_threshold_mask[slice_index,:,:], cmap='gray')\n",
    "    plt.colorbar()\n",
    "    plt.title(f'Slice {slice_index}')\n",
    "    plt.show()\n",
    "\n",
    "# Create a slider to browse through slices\n",
    "interact(plot_slice, slice_index=IntSlider(min=0, max=split_threshold_mask.shape[0]-1, step=1, value=0), axis=IntSlider(min=0, max=2, step=1, value=0))\n"
   ]
  },
  {
   "cell_type": "code",
   "execution_count": 36,
   "metadata": {},
   "outputs": [
    {
     "name": "stdout",
     "output_type": "stream",
     "text": [
      "Number of connected foreground structures before filtering: 11\n",
      "Number of connected foreground structures after filtering: 11\n"
     ]
    }
   ],
   "source": [
    "instance_seg = label_foreground_structures(split_threshold_mask, foreground_value=1)"
   ]
  },
  {
   "cell_type": "code",
   "execution_count": 37,
   "metadata": {},
   "outputs": [
    {
     "data": {
      "application/vnd.jupyter.widget-view+json": {
       "model_id": "b762941dc88741daaab0103e1dc542b6",
       "version_major": 2,
       "version_minor": 0
      },
      "text/plain": [
       "interactive(children=(IntSlider(value=0, description='slice_index', max=255), IntSlider(value=0, description='…"
      ]
     },
     "metadata": {},
     "output_type": "display_data"
    },
    {
     "data": {
      "text/plain": [
       "<function __main__.plot_slice(slice_index, axis=0)>"
      ]
     },
     "execution_count": 37,
     "metadata": {},
     "output_type": "execute_result"
    }
   ],
   "source": [
    "#plot tri-class recovered instance labels\n",
    "def plot_slice(slice_index, axis=0):\n",
    "    plt.figure(figsize=(8, 6))\n",
    "    if axis == 1:\n",
    "        plt.imshow(instance_seg[:,slice_index,:])\n",
    "    elif axis == 2:\n",
    "        plt.imshow(instance_seg[:,:,slice_index])\n",
    "    else:\n",
    "        plt.imshow(instance_seg[slice_index,:,:])\n",
    "    plt.colorbar()\n",
    "    plt.title(f'Slice {slice_index}')\n",
    "    plt.show()\n",
    "\n",
    "interact(plot_slice, slice_index=IntSlider(min=0, max=instance_seg.shape[0]-1, step=1, value=0), axis=IntSlider(min=0, max=2, step=1, value=0))"
   ]
  },
  {
   "cell_type": "code",
   "execution_count": 38,
   "metadata": {},
   "outputs": [
    {
     "data": {
      "application/vnd.jupyter.widget-view+json": {
       "model_id": "e612c018c4064e1d93ba2230db34ebb3",
       "version_major": 2,
       "version_minor": 0
      },
      "text/plain": [
       "interactive(children=(IntSlider(value=0, description='slice_index', max=255), IntSlider(value=0, description='…"
      ]
     },
     "metadata": {},
     "output_type": "display_data"
    },
    {
     "data": {
      "text/plain": [
       "<function __main__.plot_slice(slice_index, axis=0)>"
      ]
     },
     "execution_count": 38,
     "metadata": {},
     "output_type": "execute_result"
    }
   ],
   "source": [
    "#plot tri-class recovered instance labels\n",
    "def plot_slice(slice_index, axis=0):\n",
    "    plt.figure(figsize=(8, 6))\n",
    "    if axis == 1:\n",
    "        plt.imshow(mark_boundaries_color(m1r[:,slice_index,:], instance_seg[:,slice_index,:]))\n",
    "    elif axis == 2:\n",
    "        plt.imshow(mark_boundaries_color(m1r[:,:,slice_index], instance_seg[:,:,slice_index]))\n",
    "    else:\n",
    "        plt.imshow(mark_boundaries_color(m1r[slice_index,:,:], instance_seg[slice_index,:,:]))\n",
    "    plt.colorbar()\n",
    "    plt.title(f'Slice {slice_index}')\n",
    "    plt.show()\n",
    "\n",
    "interact(plot_slice, slice_index=IntSlider(min=0, max=instance_seg.shape[0]-1, step=1, value=0), axis=IntSlider(min=0, max=2, step=1, value=0))"
   ]
  }
 ],
 "metadata": {
  "kernelspec": {
   "display_name": "ML_Normals",
   "language": "python",
   "name": "python3"
  },
  "language_info": {
   "codemirror_mode": {
    "name": "ipython",
    "version": 3
   },
   "file_extension": ".py",
   "mimetype": "text/x-python",
   "name": "python",
   "nbconvert_exporter": "python",
   "pygments_lexer": "ipython3",
   "version": "3.12.2"
  }
 },
 "nbformat": 4,
 "nbformat_minor": 2
}
